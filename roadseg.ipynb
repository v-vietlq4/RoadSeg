{
 "metadata": {
  "language_info": {
   "codemirror_mode": {
    "name": "ipython",
    "version": 3
   },
   "file_extension": ".py",
   "mimetype": "text/x-python",
   "name": "python",
   "nbconvert_exporter": "python",
   "pygments_lexer": "ipython3",
   "version": "3.8.3"
  },
  "orig_nbformat": 2,
  "kernelspec": {
   "name": "python383jvsc74a57bd03b7ace9d27dc1c502e3dae86da5e8433e0698b131550d06efd3a9ab1da013269",
   "display_name": "Python 3.8.3 64-bit ('base': conda)"
  }
 },
 "nbformat": 4,
 "nbformat_minor": 2,
 "cells": [
  {
   "cell_type": "code",
   "execution_count": null,
   "metadata": {},
   "outputs": [],
   "source": [
    "from google.colab import drive\n",
    "drive.mount('/content/drive')"
   ]
  },
  {
   "cell_type": "code",
   "execution_count": null,
   "metadata": {},
   "outputs": [],
   "source": [
    "# !unzip '/content/drive/MyDrive/mapplirary_vista_4labels.zip' -d ."
   ]
  },
  {
   "cell_type": "code",
   "execution_count": null,
   "metadata": {},
   "outputs": [],
   "source": [
    "# !git clone https://github.com/vietawake/RoadSeg\n",
    "# !mv -v RoadSeg/* ."
   ]
  },
  {
   "cell_type": "code",
   "execution_count": 23,
   "metadata": {},
   "outputs": [],
   "source": [
    "from models.roadseg import RoadSeg, CrossEntropyLoss2d, init_weights\n",
    "import torch\n",
    "import numpy as np\n",
    "from torch.utils.data import DataLoader\n",
    "import torchvision\n",
    "from tqdm import tqdm\n",
    "from torchvision import transforms\n",
    "from load_dataset import ImageDataset\n",
    "from train import train_one_epoch, validate_model\n",
    "from PIL import Image\n",
    "import os"
   ]
  },
  {
   "cell_type": "code",
   "execution_count": null,
   "metadata": {},
   "outputs": [],
   "source": [
    "def generate_txtdata(path, file_name, label_name):\n",
    "  images_name = os.listdir(path)\n",
    "  for i in tqdm(range(len(images_name))):\n",
    "    name = images_name[i][:-4]\n",
    "    image = 'images/'+ name +'.jpg'\n",
    "    label = label_name + name + '.png'\n",
    "    sample_data = ', '.join([image, label])\n",
    "    images_name[i] = sample_data\n",
    "  return np.savetxt(file_name,images_name, delimiter='\\n', fmt=\"%s\")"
   ]
  },
  {
   "cell_type": "code",
   "execution_count": null,
   "metadata": {},
   "outputs": [],
   "source": [
    "generate_txtdata(path='validation/images', file_name='val_list.txt',label_name='val_labels/')\n",
    "generate_txtdata(path='training/images', file_name='train_list.txt',label_name='train_labels/')"
   ]
  },
  {
   "cell_type": "code",
   "execution_count": 24,
   "metadata": {},
   "outputs": [],
   "source": [
    "net = RoadSeg(num_labels= 4)"
   ]
  },
  {
   "cell_type": "code",
   "execution_count": 25,
   "metadata": {},
   "outputs": [],
   "source": [
    "init_weights(net,gain=0.02)"
   ]
  },
  {
   "cell_type": "code",
   "execution_count": 26,
   "metadata": {},
   "outputs": [],
   "source": [
    "torch.backends.cudnn.benchmark = True\n",
    "np.random.seed(50)\n",
    "torch.manual_seed(50)\n",
    "\n",
    "if torch.cuda.is_available():\n",
    "    torch.cuda.manual_seed(50)\n",
    "\n",
    "device = torch.device(\"cuda:0\" if torch.cuda.is_available() else \"cpu\")"
   ]
  },
  {
   "cell_type": "code",
   "execution_count": 27,
   "metadata": {},
   "outputs": [],
   "source": [
    "num_epochs = 50\n",
    "max_acc = 0\n",
    "patience = 10\n",
    "not_improved_count = 0\n",
    "batch_size = 4"
   ]
  },
  {
   "cell_type": "code",
   "execution_count": null,
   "metadata": {},
   "outputs": [],
   "source": [
    "transform = transforms.Compose([\n",
    "    torchvision.transforms.Resize((384, 640),interpolation=Image.NEAREST),\n",
    "])\n",
    "\n",
    "\n",
    "train_dataset = ImageDataset(root_dir='training/',\n",
    "                              txt_files='data/train_list.txt', \n",
    "                              img_size=(384, 640), \n",
    "                              transform=transform)\n",
    "\n",
    "val_dataset = ImageDataset(root_dir='validation/',\n",
    "                            txt_files='data/val_list.txt', \n",
    "                            img_size=(384, 640), \n",
    "                            transform=transform)\n",
    "train_loader = DataLoader(train_dataset, batch_size=batch_size,\n",
    "                              shuffle=True, num_workers=6)\n",
    "val_loader = DataLoader(val_dataset, batch_size=batch_size,\n",
    "                            shuffle=True, num_workers=6)"
   ]
  },
  {
   "cell_type": "code",
   "execution_count": null,
   "metadata": {},
   "outputs": [],
   "source": [
    "criterion = CrossEntropyLoss2d()\n",
    "optimizer = torch.optim.Adam(net.parameters(),5e-4,(0.9, 0.999), eps=1e-08, weight_decay=1e-4)\n",
    "\n",
    "for epoch in range(num_epochs):\n",
    "    train_loss, acc, train_jsc = train_one_epoch(net, criterion, optimizer, train_loader, device)\n",
    "    val_loss , val_acc, val_jsc = validate_model(net, criterion, val_loader, device)\n",
    "\n",
    "    print('Epoch: {}'.format(epoch))\n",
    "    print('Training acc: {:.4f}\\tTrain_jsc: {:.4f}\\tTraining Loss: {:.4f}'.format(acc,train_jsc,train_loss))\n",
    "    print('Valid acc: {:.4f}\\tValid_jsc: {:.4f}\\tValid Loss: {:.4f}'.format(val_acc,val_jsc, val_loss))\n",
    "\n",
    "    if val_acc > max_acc:\n",
    "        \n",
    "        torch.save(net.state_dict(), '/content/drive/MyDrive/checkpoints/RoadSeg_epoch_' + str(epoch) + '_acc_{0:.4f}'.format(val_acc)+'.pt')\n",
    "        max_acc = val_acc\n",
    "        not_improved_count = 0\n",
    "    else:\n",
    "        not_improved_count+=1\n",
    "    \n",
    "    if not_improved_count >=patience:\n",
    "        break\n",
    "\n",
    "\n",
    "\n"
   ]
  }
 ]
}